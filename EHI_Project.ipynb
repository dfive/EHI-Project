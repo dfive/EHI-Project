{
  "nbformat": 4,
  "nbformat_minor": 0,
  "metadata": {
    "colab": {
      "name": "EHI Project.ipynb",
      "provenance": [],
      "collapsed_sections": [
        "MCFncWw8C1at",
        "2l2ob1srHRNk",
        "Pd7L7p5yPi0N"
      ],
      "mount_file_id": "11hzA-DBy-z3RoWdCmY1EZshNfldhv0_V",
      "authorship_tag": "ABX9TyOZhJkUS2M/XeN7a8gqSrRx",
      "include_colab_link": true
    },
    "kernelspec": {
      "name": "python3",
      "display_name": "Python 3"
    }
  },
  "cells": [
    {
      "cell_type": "markdown",
      "metadata": {
        "id": "view-in-github",
        "colab_type": "text"
      },
      "source": [
        "<a href=\"https://colab.research.google.com/github/dfive/EHI-Project/blob/master/EHI_Project.ipynb\" target=\"_parent\"><img src=\"https://colab.research.google.com/assets/colab-badge.svg\" alt=\"Open In Colab\"/></a>"
      ]
    },
    {
      "cell_type": "markdown",
      "metadata": {
        "id": "M-8Mt2tFuLWs",
        "colab_type": "text"
      },
      "source": [
        "# <center> **Beer Data Analysis** </center>\n",
        "\n",
        "---"
      ]
    },
    {
      "cell_type": "markdown",
      "metadata": {
        "id": "rTnjuirk3sBR",
        "colab_type": "text"
      },
      "source": [
        "# **Problem Statement**\n",
        "\n",
        "Analyse the provided beer data and answer the following questions:\n",
        "\n",
        "Questions:\n",
        "1. Rank top 3 Breweries which produce the strongest beers?\n",
        "2. Which year did beers enjoy the highest ratings?\n",
        "3. Based on the user’s ratings which factors are important among taste, aroma,\n",
        "appearance, and palette?\n",
        "4. If you were to recommend 3 beers to your friends based on this data which ones will\n",
        "you recommend?\n",
        "5. Which Beer style seems to be the favorite based on Reviews written by users? How does\n",
        "written review compare to overall review score for the beer style?"
      ]
    },
    {
      "cell_type": "markdown",
      "metadata": {
        "id": "KNBMPGnOv9ge",
        "colab_type": "text"
      },
      "source": [
        "# 1. **Data Exploratry** \n",
        "\n",
        "1.1   Loading data from CSV file\n",
        "\n"
      ]
    },
    {
      "cell_type": "code",
      "metadata": {
        "id": "9NXjxoobQczR",
        "colab_type": "code",
        "colab": {}
      },
      "source": [
        "#loading required packages\n",
        "import pandas as pd\n",
        "import datetime\n",
        "import matplotlib.pyplot as plt\n",
        "%matplotlib inline\n",
        "import seaborn as sns\n",
        "from sklearn.linear_model import LinearRegression\n",
        "from sklearn.feature_selection import RFE\n",
        "from sklearn.ensemble import RandomForestRegressor\n",
        "from textblob import TextBlob\n"
      ],
      "execution_count": 0,
      "outputs": []
    },
    {
      "cell_type": "code",
      "metadata": {
        "id": "Pvn-S4Suw6Wg",
        "colab_type": "code",
        "colab": {}
      },
      "source": [
        "def dateparse (time_in_secs):  \n",
        "    \"\"\"\n",
        "    Converting time in seconds to datetime\n",
        "    Parameters: \n",
        "    time_in_secs (int): time in seconds\n",
        "  \n",
        "    Returns: \n",
        "    datetime: converted datetime object\n",
        "    \"\"\"  \n",
        "\n",
        "    return datetime.datetime.fromtimestamp(float(time_in_secs))\n",
        "\n",
        "#colums to be considered from CSV file\n",
        "cols_names = ['beer_ABV','beer_beerId','beer_brewerId','beer_name','beer_style','review_appearance','review_palette','review_overall','review_taste','review_profileName','review_aroma','review_text','review_time']\n",
        "\n",
        "#loading CSV file in to beer_data dataframe\n",
        "beer_data=pd.read_csv('/content/drive/My Drive/Colab Notebooks/BeerDataScienceProject.csv',sep=',', names= cols_names, encoding='latin-1',header=0,date_parser=dateparse,parse_dates=['review_time'])"
      ],
      "execution_count": 0,
      "outputs": []
    },
    {
      "cell_type": "markdown",
      "metadata": {
        "id": "qOs-WHiZ0D8v",
        "colab_type": "text"
      },
      "source": [
        "1.2.   Checking out type of data, summary statistics and reformatting the columns.\n",
        "\n"
      ]
    },
    {
      "cell_type": "code",
      "metadata": {
        "id": "SSyxBTh10dXT",
        "colab_type": "code",
        "colab": {}
      },
      "source": [
        "#checking the first few rows of DataFrame\n",
        "beer_data.head()"
      ],
      "execution_count": 0,
      "outputs": []
    },
    {
      "cell_type": "code",
      "metadata": {
        "id": "3UOQZ6Li1PxD",
        "colab_type": "code",
        "colab": {}
      },
      "source": [
        "#reordering the DataFrame columns\n",
        "beer_data=beer_data[['beer_ABV','beer_beerId','beer_brewerId','beer_name','beer_style','review_appearance','review_palette','review_overall','review_taste','review_aroma','review_profileName','review_text','review_time']]\n",
        "\n",
        "#renaming the DataFrame columns\n",
        "beer_data.columns=['beer_ABV','beer_beerId','beer_brewerId','beer_name','beer_style','rating_appearance','rating_palette','rating_overall','rating_taste','rating_aroma','review_profileName','review_text','review_time']\n",
        "\n",
        "#checking out the nformation about DataFrame including the index dtype and column dtypes, non-null values and memory usage\n",
        "beer_data.info()"
      ],
      "execution_count": 0,
      "outputs": []
    },
    {
      "cell_type": "markdown",
      "metadata": {
        "id": "0vqba_Tl2l83",
        "colab_type": "text"
      },
      "source": [
        "Well, all the columns are in required data types and few missing values for some columns. There are total 528870 rows and 12 Columns in DataFrame."
      ]
    },
    {
      "cell_type": "markdown",
      "metadata": {
        "id": "KeLCqvbg67Kb",
        "colab_type": "text"
      },
      "source": [
        "1.3 Analysing descriptive statistics for beer data\n",
        "\n",
        "\n",
        "\n"
      ]
    },
    {
      "cell_type": "code",
      "metadata": {
        "id": "Ex4topcP3g4h",
        "colab_type": "code",
        "outputId": "b5e85348-05a5-4aef-a42a-d22c75dc9f1c",
        "colab": {
          "base_uri": "https://localhost:8080/",
          "height": 317
        }
      },
      "source": [
        "#generate descriptive statistics\n",
        "beer_data.describe()"
      ],
      "execution_count": 0,
      "outputs": [
        {
          "output_type": "execute_result",
          "data": {
            "text/html": [
              "<div>\n",
              "<style scoped>\n",
              "    .dataframe tbody tr th:only-of-type {\n",
              "        vertical-align: middle;\n",
              "    }\n",
              "\n",
              "    .dataframe tbody tr th {\n",
              "        vertical-align: top;\n",
              "    }\n",
              "\n",
              "    .dataframe thead th {\n",
              "        text-align: right;\n",
              "    }\n",
              "</style>\n",
              "<table border=\"1\" class=\"dataframe\">\n",
              "  <thead>\n",
              "    <tr style=\"text-align: right;\">\n",
              "      <th></th>\n",
              "      <th>beer_ABV</th>\n",
              "      <th>beer_beerId</th>\n",
              "      <th>beer_brewerId</th>\n",
              "      <th>rating_appearance</th>\n",
              "      <th>rating_palette</th>\n",
              "      <th>rating_overall</th>\n",
              "      <th>rating_taste</th>\n",
              "      <th>rating_aroma</th>\n",
              "    </tr>\n",
              "  </thead>\n",
              "  <tbody>\n",
              "    <tr>\n",
              "      <th>count</th>\n",
              "      <td>508590.000000</td>\n",
              "      <td>528870.000000</td>\n",
              "      <td>528870.000000</td>\n",
              "      <td>528870.000000</td>\n",
              "      <td>528870.000000</td>\n",
              "      <td>528870.000000</td>\n",
              "      <td>528870.000000</td>\n",
              "      <td>528870.000000</td>\n",
              "    </tr>\n",
              "    <tr>\n",
              "      <th>mean</th>\n",
              "      <td>7.017442</td>\n",
              "      <td>22098.466016</td>\n",
              "      <td>2598.423429</td>\n",
              "      <td>3.864522</td>\n",
              "      <td>3.758926</td>\n",
              "      <td>3.833197</td>\n",
              "      <td>3.765993</td>\n",
              "      <td>3.817350</td>\n",
              "    </tr>\n",
              "    <tr>\n",
              "      <th>std</th>\n",
              "      <td>2.204460</td>\n",
              "      <td>22158.284352</td>\n",
              "      <td>5281.805350</td>\n",
              "      <td>0.604010</td>\n",
              "      <td>0.685335</td>\n",
              "      <td>0.709962</td>\n",
              "      <td>0.669018</td>\n",
              "      <td>0.718903</td>\n",
              "    </tr>\n",
              "    <tr>\n",
              "      <th>min</th>\n",
              "      <td>0.010000</td>\n",
              "      <td>3.000000</td>\n",
              "      <td>1.000000</td>\n",
              "      <td>0.000000</td>\n",
              "      <td>1.000000</td>\n",
              "      <td>0.000000</td>\n",
              "      <td>1.000000</td>\n",
              "      <td>1.000000</td>\n",
              "    </tr>\n",
              "    <tr>\n",
              "      <th>25%</th>\n",
              "      <td>5.300000</td>\n",
              "      <td>1745.000000</td>\n",
              "      <td>132.000000</td>\n",
              "      <td>3.500000</td>\n",
              "      <td>3.500000</td>\n",
              "      <td>3.500000</td>\n",
              "      <td>3.500000</td>\n",
              "      <td>3.500000</td>\n",
              "    </tr>\n",
              "    <tr>\n",
              "      <th>50%</th>\n",
              "      <td>6.500000</td>\n",
              "      <td>14368.000000</td>\n",
              "      <td>394.000000</td>\n",
              "      <td>4.000000</td>\n",
              "      <td>4.000000</td>\n",
              "      <td>4.000000</td>\n",
              "      <td>4.000000</td>\n",
              "      <td>4.000000</td>\n",
              "    </tr>\n",
              "    <tr>\n",
              "      <th>75%</th>\n",
              "      <td>8.500000</td>\n",
              "      <td>40528.000000</td>\n",
              "      <td>1475.000000</td>\n",
              "      <td>4.000000</td>\n",
              "      <td>4.000000</td>\n",
              "      <td>4.500000</td>\n",
              "      <td>4.000000</td>\n",
              "      <td>4.500000</td>\n",
              "    </tr>\n",
              "    <tr>\n",
              "      <th>max</th>\n",
              "      <td>57.700000</td>\n",
              "      <td>77310.000000</td>\n",
              "      <td>27980.000000</td>\n",
              "      <td>5.000000</td>\n",
              "      <td>5.000000</td>\n",
              "      <td>5.000000</td>\n",
              "      <td>5.000000</td>\n",
              "      <td>5.000000</td>\n",
              "    </tr>\n",
              "  </tbody>\n",
              "</table>\n",
              "</div>"
            ],
            "text/plain": [
              "            beer_ABV    beer_beerId  ...   rating_taste   rating_aroma\n",
              "count  508590.000000  528870.000000  ...  528870.000000  528870.000000\n",
              "mean        7.017442   22098.466016  ...       3.765993       3.817350\n",
              "std         2.204460   22158.284352  ...       0.669018       0.718903\n",
              "min         0.010000       3.000000  ...       1.000000       1.000000\n",
              "25%         5.300000    1745.000000  ...       3.500000       3.500000\n",
              "50%         6.500000   14368.000000  ...       4.000000       4.000000\n",
              "75%         8.500000   40528.000000  ...       4.000000       4.500000\n",
              "max        57.700000   77310.000000  ...       5.000000       5.000000\n",
              "\n",
              "[8 rows x 8 columns]"
            ]
          },
          "metadata": {
            "tags": []
          },
          "execution_count": 10
        }
      ]
    },
    {
      "cell_type": "markdown",
      "metadata": {
        "id": "mG3t47hh7xEC",
        "colab_type": "text"
      },
      "source": [
        "Following are findings from descriptive statistics:\n",
        "\n",
        "*   On average beers are having 7% alchohal level but there are few beers with very high alchohal content (57.7%).\n",
        "*   Average beers ratings is ranging from 3.7 to 3.9.\n"
      ]
    },
    {
      "cell_type": "markdown",
      "metadata": {
        "id": "lIByqddM9M0Q",
        "colab_type": "text"
      },
      "source": [
        "Lets further explore the data to get more insights on brewers, beers and beer styles."
      ]
    },
    {
      "cell_type": "code",
      "metadata": {
        "id": "c-IDM1309qsu",
        "colab_type": "code",
        "outputId": "4fb772f3-e178-4d9d-b1f7-25020f0789a0",
        "colab": {
          "base_uri": "https://localhost:8080/",
          "height": 221
        }
      },
      "source": [
        "#Checking count of breweries\n",
        "beer_data['beer_brewerId'].value_counts()"
      ],
      "execution_count": 0,
      "outputs": [
        {
          "output_type": "execute_result",
          "data": {
            "text/plain": [
              "35       39444\n",
              "140      28751\n",
              "132      24083\n",
              "1199     20004\n",
              "3818     15868\n",
              "         ...  \n",
              "10288        1\n",
              "15194        1\n",
              "9264         1\n",
              "13030        1\n",
              "20634        1\n",
              "Name: beer_brewerId, Length: 1803, dtype: int64"
            ]
          },
          "metadata": {
            "tags": []
          },
          "execution_count": 12
        }
      ]
    },
    {
      "cell_type": "markdown",
      "metadata": {
        "id": "RJKNSduY-N_r",
        "colab_type": "text"
      },
      "source": [
        "Breweries with beer_brewerId 35, 140 and 132 are most reviewed Breweries."
      ]
    },
    {
      "cell_type": "code",
      "metadata": {
        "id": "f6mq2uXj9xQ5",
        "colab_type": "code",
        "outputId": "e223dfac-bc2a-4d43-9b9a-b3d5863ce11e",
        "colab": {
          "base_uri": "https://localhost:8080/",
          "height": 221
        }
      },
      "source": [
        "#generating beer counts\n",
        "beer_data['beer_name'].value_counts()"
      ],
      "execution_count": 0,
      "outputs": [
        {
          "output_type": "execute_result",
          "data": {
            "text/plain": [
              "Sierra Nevada Celebration Ale                 3000\n",
              "Sierra Nevada Pale Ale                        2587\n",
              "Founders Breakfast Stout                      2502\n",
              "Sierra Nevada Bigfoot Barleywine Style Ale    2492\n",
              "La Fin Du Monde                               2483\n",
              "                                              ... \n",
              "Submission                                       1\n",
              "Dry Humpkin                                      1\n",
              "Max Belgian Pale                                 1\n",
              "The Lab Amber                                    1\n",
              "Raspberry Pale Ale                               1\n",
              "Name: beer_name, Length: 18339, dtype: int64"
            ]
          },
          "metadata": {
            "tags": []
          },
          "execution_count": 13
        }
      ]
    },
    {
      "cell_type": "markdown",
      "metadata": {
        "id": "-_BH6THK-2G8",
        "colab_type": "text"
      },
      "source": [
        "**Sierra Nevada Celebration Ale** , **Sierra Nevada Pale Ale** and **Founders Breakfast Stout** are most reviewed beers."
      ]
    },
    {
      "cell_type": "code",
      "metadata": {
        "id": "0FeSPtyS_QOT",
        "colab_type": "code",
        "outputId": "fe242670-be58-4ebe-f0e1-5f9c24164904",
        "colab": {
          "base_uri": "https://localhost:8080/",
          "height": 221
        }
      },
      "source": [
        "#generating beer style count\n",
        "beer_data['beer_style'].value_counts()"
      ],
      "execution_count": 0,
      "outputs": [
        {
          "output_type": "execute_result",
          "data": {
            "text/plain": [
              "American IPA                        43369\n",
              "American Double / Imperial IPA      26106\n",
              "American Double / Imperial Stout    23354\n",
              "American Pale Ale (APA)             20520\n",
              "American Amber / Red Ale            18731\n",
              "                                    ...  \n",
              "Sahti                                 139\n",
              "Kvass                                 118\n",
              "Gose                                   90\n",
              "Happoshu                               55\n",
              "Faro                                   53\n",
              "Name: beer_style, Length: 104, dtype: int64"
            ]
          },
          "metadata": {
            "tags": []
          },
          "execution_count": 14
        }
      ]
    },
    {
      "cell_type": "markdown",
      "metadata": {
        "id": "ndMGSFm0Oril",
        "colab_type": "text"
      },
      "source": [
        "**American IPA**, **American Double / Imperial IPA**  and **American Double / Imperial Stout** are most reviewed beer styles."
      ]
    },
    {
      "cell_type": "code",
      "metadata": {
        "id": "ZPetv5HmObIF",
        "colab_type": "code",
        "outputId": "b49a8b0a-c007-49d9-9fde-d805ba5e0cdc",
        "colab": {
          "base_uri": "https://localhost:8080/",
          "height": 221
        }
      },
      "source": [
        "beer_data['review_profileName'].value_counts()"
      ],
      "execution_count": 0,
      "outputs": [
        {
          "output_type": "execute_result",
          "data": {
            "text/plain": [
              "northyorksammy    1858\n",
              "mikesgroove       1403\n",
              "BuckeyeNation     1298\n",
              "womencantsail     1238\n",
              "Phyl21ca          1164\n",
              "                  ... \n",
              "phnphilly            1\n",
              "yermomma             1\n",
              "SeaBrew40            1\n",
              "badworthing          1\n",
              "nkronma              1\n",
              "Name: review_profileName, Length: 22800, dtype: int64"
            ]
          },
          "metadata": {
            "tags": []
          },
          "execution_count": 27
        }
      ]
    },
    {
      "cell_type": "markdown",
      "metadata": {
        "id": "JefvR1IN_eYz",
        "colab_type": "text"
      },
      "source": [
        "**northyorksammy**, **mikesgroove** and **BuckeyeNation** are among top reviewers."
      ]
    },
    {
      "cell_type": "code",
      "metadata": {
        "id": "4dwZl67q_3UR",
        "colab_type": "code",
        "outputId": "5a6af485-6f42-4b72-fcd4-ec6139121d62",
        "colab": {
          "base_uri": "https://localhost:8080/",
          "height": 255
        }
      },
      "source": [
        "#lets check out the missing values\n",
        "beer_data.isna().sum()"
      ],
      "execution_count": 0,
      "outputs": [
        {
          "output_type": "execute_result",
          "data": {
            "text/plain": [
              "beer_ABV              20280\n",
              "beer_beerId               0\n",
              "beer_brewerId             0\n",
              "beer_name                 0\n",
              "beer_style                0\n",
              "rating_appearance         0\n",
              "rating_palette            0\n",
              "rating_overall            0\n",
              "rating_taste              0\n",
              "rating_aroma              0\n",
              "review_profileName      115\n",
              "review_text             119\n",
              "review_time               0\n",
              "dtype: int64"
            ]
          },
          "metadata": {
            "tags": []
          },
          "execution_count": 15
        }
      ]
    },
    {
      "cell_type": "markdown",
      "metadata": {
        "id": "u2f-8hiNAMWo",
        "colab_type": "text"
      },
      "source": [
        "There are 20280 missing values for beer_ABV, 115 missing values for profile name and 119 missing values for review_text.\n",
        "\n",
        "Lets impute the missing values for beer_ABV"
      ]
    },
    {
      "cell_type": "code",
      "metadata": {
        "id": "KM-qjIDK_4FK",
        "colab_type": "code",
        "outputId": "285ffc12-2337-4513-97d2-d3afbdeaed6c",
        "colab": {
          "base_uri": "https://localhost:8080/",
          "height": 255
        }
      },
      "source": [
        "#imputing beer ABV missing values with the median median beer_ABV value of beers.\n",
        "beer_data[\"beer_ABV\"] = beer_data[['beer_beerId','beer_ABV']].groupby(\"beer_beerId\").transform(lambda x: x.fillna(x.median()))\n",
        "\n",
        "#imputing remaing beer_ABV missing values with median beer_ABV value of brewers.\n",
        "beer_data[\"beer_ABV\"] = beer_data[['beer_brewerId','beer_ABV']].groupby(\"beer_brewerId\").transform(lambda x: x.fillna(x.median()))\n",
        "\n",
        "#imputing remainng beer_ABV missing value with median of overall beer_ABV value\n",
        "beer_data[\"beer_ABV\"] = beer_data['beer_ABV'].transform(lambda x: x.fillna(x.median()))\n",
        "\n",
        "#Confirming the beer_ABV missing value imputation\n",
        "beer_data.isna().sum()"
      ],
      "execution_count": 0,
      "outputs": [
        {
          "output_type": "execute_result",
          "data": {
            "text/plain": [
              "beer_ABV                0\n",
              "beer_beerId             0\n",
              "beer_brewerId           0\n",
              "beer_name               0\n",
              "beer_style              0\n",
              "rating_appearance       0\n",
              "rating_palette          0\n",
              "rating_overall          0\n",
              "rating_taste            0\n",
              "rating_aroma            0\n",
              "review_profileName    115\n",
              "review_text           119\n",
              "review_time             0\n",
              "dtype: int64"
            ]
          },
          "metadata": {
            "tags": []
          },
          "execution_count": 18
        }
      ]
    },
    {
      "cell_type": "markdown",
      "metadata": {
        "id": "rSDwG2p7Cg9P",
        "colab_type": "text"
      },
      "source": [
        "Well, Now lets address the questions."
      ]
    },
    {
      "cell_type": "markdown",
      "metadata": {
        "id": "MCFncWw8C1at",
        "colab_type": "text"
      },
      "source": [
        "# **Q1. Rank top 3 Breweries which produce the strongest beers?**"
      ]
    },
    {
      "cell_type": "code",
      "metadata": {
        "id": "_vSE58INEYcq",
        "colab_type": "code",
        "outputId": "9c8b44d2-057d-4afa-bbfd-e984c4f2c8c4",
        "colab": {
          "base_uri": "https://localhost:8080/",
          "height": 173
        }
      },
      "source": [
        "#Finding Rank of top 3 Breweries which produce the strongest beers on average\n",
        "beer_data[['beer_brewerId','beer_ABV']].groupby(['beer_brewerId']).mean().sort_values(['beer_ABV'],ascending=False).head(3)"
      ],
      "execution_count": 0,
      "outputs": [
        {
          "output_type": "execute_result",
          "data": {
            "text/html": [
              "<div>\n",
              "<style scoped>\n",
              "    .dataframe tbody tr th:only-of-type {\n",
              "        vertical-align: middle;\n",
              "    }\n",
              "\n",
              "    .dataframe tbody tr th {\n",
              "        vertical-align: top;\n",
              "    }\n",
              "\n",
              "    .dataframe thead th {\n",
              "        text-align: right;\n",
              "    }\n",
              "</style>\n",
              "<table border=\"1\" class=\"dataframe\">\n",
              "  <thead>\n",
              "    <tr style=\"text-align: right;\">\n",
              "      <th></th>\n",
              "      <th>beer_ABV</th>\n",
              "    </tr>\n",
              "    <tr>\n",
              "      <th>beer_brewerId</th>\n",
              "      <th></th>\n",
              "    </tr>\n",
              "  </thead>\n",
              "  <tbody>\n",
              "    <tr>\n",
              "      <th>6513</th>\n",
              "      <td>19.228824</td>\n",
              "    </tr>\n",
              "    <tr>\n",
              "      <th>736</th>\n",
              "      <td>13.763158</td>\n",
              "    </tr>\n",
              "    <tr>\n",
              "      <th>24215</th>\n",
              "      <td>12.466667</td>\n",
              "    </tr>\n",
              "  </tbody>\n",
              "</table>\n",
              "</div>"
            ],
            "text/plain": [
              "                beer_ABV\n",
              "beer_brewerId           \n",
              "6513           19.228824\n",
              "736            13.763158\n",
              "24215          12.466667"
            ]
          },
          "metadata": {
            "tags": []
          },
          "execution_count": 19
        }
      ]
    },
    {
      "cell_type": "markdown",
      "metadata": {
        "id": "isf21Nc6Ehop",
        "colab_type": "text"
      },
      "source": [
        "**Breweries with beer_brewerId 6513, 736 and 24215 are producing the strong beers with average beer_ABV of 19.23%, 13.76% and 12.47% respectivily.**"
      ]
    },
    {
      "cell_type": "code",
      "metadata": {
        "id": "Gum8xxPLFilA",
        "colab_type": "code",
        "outputId": "65475468-c58b-4f9f-c2b1-aa4dffcf9b56",
        "colab": {
          "base_uri": "https://localhost:8080/",
          "height": 173
        }
      },
      "source": [
        "#Top 3 Breweries which producing beers with high ABV value\n",
        "beer_data[['beer_brewerId','beer_name','beer_style','beer_ABV']].groupby(['beer_brewerId']).max().sort_values(['beer_ABV'],ascending=False).head(3)"
      ],
      "execution_count": 0,
      "outputs": [
        {
          "output_type": "execute_result",
          "data": {
            "text/html": [
              "<div>\n",
              "<style scoped>\n",
              "    .dataframe tbody tr th:only-of-type {\n",
              "        vertical-align: middle;\n",
              "    }\n",
              "\n",
              "    .dataframe tbody tr th {\n",
              "        vertical-align: top;\n",
              "    }\n",
              "\n",
              "    .dataframe thead th {\n",
              "        text-align: right;\n",
              "    }\n",
              "</style>\n",
              "<table border=\"1\" class=\"dataframe\">\n",
              "  <thead>\n",
              "    <tr style=\"text-align: right;\">\n",
              "      <th></th>\n",
              "      <th>beer_name</th>\n",
              "      <th>beer_style</th>\n",
              "      <th>beer_ABV</th>\n",
              "    </tr>\n",
              "    <tr>\n",
              "      <th>beer_brewerId</th>\n",
              "      <th></th>\n",
              "      <th></th>\n",
              "      <th></th>\n",
              "    </tr>\n",
              "  </thead>\n",
              "  <tbody>\n",
              "    <tr>\n",
              "      <th>6513</th>\n",
              "      <td>Schorschbräu Schorschbock 57%</td>\n",
              "      <td>Weizenbock</td>\n",
              "      <td>57.7</td>\n",
              "    </tr>\n",
              "    <tr>\n",
              "      <th>35</th>\n",
              "      <td>WTF</td>\n",
              "      <td>Witbier</td>\n",
              "      <td>27.0</td>\n",
              "    </tr>\n",
              "    <tr>\n",
              "      <th>16866</th>\n",
              "      <td>White Zin</td>\n",
              "      <td>Witbier</td>\n",
              "      <td>19.5</td>\n",
              "    </tr>\n",
              "  </tbody>\n",
              "</table>\n",
              "</div>"
            ],
            "text/plain": [
              "                                   beer_name  beer_style  beer_ABV\n",
              "beer_brewerId                                                     \n",
              "6513           Schorschbräu Schorschbock 57%  Weizenbock      57.7\n",
              "35                                       WTF     Witbier      27.0\n",
              "16866                              White Zin     Witbier      19.5"
            ]
          },
          "metadata": {
            "tags": []
          },
          "execution_count": 20
        }
      ]
    },
    {
      "cell_type": "markdown",
      "metadata": {
        "id": "cKoZAnCtF67Q",
        "colab_type": "text"
      },
      "source": [
        "Again brewer with brewerid **6513** is on top with producing strongest beer **Schorschbräu Schorschbock 57%**\tof beer style **Weizenbock** with beer ABV content of **57.7%**."
      ]
    },
    {
      "cell_type": "markdown",
      "metadata": {
        "id": "2l2ob1srHRNk",
        "colab_type": "text"
      },
      "source": [
        "# **Q2. Which year did beers enjoy the highest ratings?**"
      ]
    },
    {
      "cell_type": "code",
      "metadata": {
        "id": "iU83ki-rHplw",
        "colab_type": "code",
        "outputId": "4e051758-6468-45c8-c00b-caa03f796b49",
        "colab": {
          "base_uri": "https://localhost:8080/",
          "height": 111
        }
      },
      "source": [
        "#Selecting rating columns\n",
        "ratings_columns=['rating_overall','rating_aroma','rating_taste','rating_appearance','rating_palette']\n",
        "\n",
        "#Finding the year with highest average rating\n",
        "beer_data[ratings_columns].groupby([beer_data.review_time.dt.year]).agg('mean').sort_values(ratings_columns,ascending=False).head(1)"
      ],
      "execution_count": 0,
      "outputs": [
        {
          "output_type": "execute_result",
          "data": {
            "text/html": [
              "<div>\n",
              "<style scoped>\n",
              "    .dataframe tbody tr th:only-of-type {\n",
              "        vertical-align: middle;\n",
              "    }\n",
              "\n",
              "    .dataframe tbody tr th {\n",
              "        vertical-align: top;\n",
              "    }\n",
              "\n",
              "    .dataframe thead th {\n",
              "        text-align: right;\n",
              "    }\n",
              "</style>\n",
              "<table border=\"1\" class=\"dataframe\">\n",
              "  <thead>\n",
              "    <tr style=\"text-align: right;\">\n",
              "      <th></th>\n",
              "      <th>rating_overall</th>\n",
              "      <th>rating_aroma</th>\n",
              "      <th>rating_taste</th>\n",
              "      <th>rating_appearance</th>\n",
              "      <th>rating_palette</th>\n",
              "    </tr>\n",
              "    <tr>\n",
              "      <th>review_time</th>\n",
              "      <th></th>\n",
              "      <th></th>\n",
              "      <th></th>\n",
              "      <th></th>\n",
              "      <th></th>\n",
              "    </tr>\n",
              "  </thead>\n",
              "  <tbody>\n",
              "    <tr>\n",
              "      <th>2000</th>\n",
              "      <td>4.181818</td>\n",
              "      <td>4.19697</td>\n",
              "      <td>3.984848</td>\n",
              "      <td>3.909091</td>\n",
              "      <td>3.939394</td>\n",
              "    </tr>\n",
              "  </tbody>\n",
              "</table>\n",
              "</div>"
            ],
            "text/plain": [
              "             rating_overall  rating_aroma  ...  rating_appearance  rating_palette\n",
              "review_time                                ...                                   \n",
              "2000               4.181818       4.19697  ...           3.909091        3.939394\n",
              "\n",
              "[1 rows x 5 columns]"
            ]
          },
          "metadata": {
            "tags": []
          },
          "execution_count": 21
        }
      ]
    },
    {
      "cell_type": "markdown",
      "metadata": {
        "id": "HSAQ0rhyLb-5",
        "colab_type": "text"
      },
      "source": [
        "**Year 2000 enjoyed the highest rating on average.**"
      ]
    },
    {
      "cell_type": "markdown",
      "metadata": {
        "id": "RwFuxX8G_t45",
        "colab_type": "text"
      },
      "source": [
        "Lets further explore the year wise ratings"
      ]
    },
    {
      "cell_type": "code",
      "metadata": {
        "id": "AreedCaKMkPM",
        "colab_type": "code",
        "colab": {}
      },
      "source": [
        "#Rating columns with reviewers\n",
        "ratings_columns_with_profile=['rating_overall','rating_aroma','rating_taste','rating_appearance','rating_palette','review_profileName']"
      ],
      "execution_count": 0,
      "outputs": []
    },
    {
      "cell_type": "code",
      "metadata": {
        "id": "NztBJa99NSRZ",
        "colab_type": "code",
        "outputId": "394865c8-73d6-4e8d-c564-124a7655afa6",
        "colab": {
          "base_uri": "https://localhost:8080/",
          "height": 142
        }
      },
      "source": [
        "beer_data_rating=beer_data[ratings_columns_with_profile].groupby([beer_data.review_time.dt.year]).agg({'rating_overall': 'mean',\n",
        "                                'rating_aroma': 'mean',\n",
        "                                'rating_taste': 'mean',\n",
        "                                'rating_palette': 'mean',     \n",
        "                                'rating_appearance': 'mean',\n",
        "                                'review_profileName': 'count'})\n",
        "\n",
        "beer_data_rating_reindexed = pd.DataFrame(beer_data_rating.reset_index())\n",
        "\n",
        "beer_data_rating_sorted = beer_data_rating_reindexed.sort_values(['review_profileName','rating_overall', 'rating_aroma','rating_taste','rating_palette','rating_appearance'], ascending=[False,False,False, False, False, False])\n",
        "\n",
        "beer_data_rating_sorted.head(3)"
      ],
      "execution_count": 0,
      "outputs": [
        {
          "output_type": "execute_result",
          "data": {
            "text/html": [
              "<div>\n",
              "<style scoped>\n",
              "    .dataframe tbody tr th:only-of-type {\n",
              "        vertical-align: middle;\n",
              "    }\n",
              "\n",
              "    .dataframe tbody tr th {\n",
              "        vertical-align: top;\n",
              "    }\n",
              "\n",
              "    .dataframe thead th {\n",
              "        text-align: right;\n",
              "    }\n",
              "</style>\n",
              "<table border=\"1\" class=\"dataframe\">\n",
              "  <thead>\n",
              "    <tr style=\"text-align: right;\">\n",
              "      <th></th>\n",
              "      <th>review_time</th>\n",
              "      <th>rating_overall</th>\n",
              "      <th>rating_aroma</th>\n",
              "      <th>rating_taste</th>\n",
              "      <th>rating_palette</th>\n",
              "      <th>rating_appearance</th>\n",
              "      <th>review_profileName</th>\n",
              "    </tr>\n",
              "  </thead>\n",
              "  <tbody>\n",
              "    <tr>\n",
              "      <th>13</th>\n",
              "      <td>2011</td>\n",
              "      <td>3.828093</td>\n",
              "      <td>3.827497</td>\n",
              "      <td>3.786184</td>\n",
              "      <td>3.790176</td>\n",
              "      <td>3.891231</td>\n",
              "      <td>110836</td>\n",
              "    </tr>\n",
              "    <tr>\n",
              "      <th>12</th>\n",
              "      <td>2010</td>\n",
              "      <td>3.866139</td>\n",
              "      <td>3.849259</td>\n",
              "      <td>3.808075</td>\n",
              "      <td>3.798502</td>\n",
              "      <td>3.897788</td>\n",
              "      <td>93810</td>\n",
              "    </tr>\n",
              "    <tr>\n",
              "      <th>11</th>\n",
              "      <td>2009</td>\n",
              "      <td>3.864390</td>\n",
              "      <td>3.849518</td>\n",
              "      <td>3.799660</td>\n",
              "      <td>3.791261</td>\n",
              "      <td>3.893453</td>\n",
              "      <td>83534</td>\n",
              "    </tr>\n",
              "  </tbody>\n",
              "</table>\n",
              "</div>"
            ],
            "text/plain": [
              "    review_time  rating_overall  ...  rating_appearance  review_profileName\n",
              "13         2011        3.828093  ...           3.891231              110836\n",
              "12         2010        3.866139  ...           3.897788               93810\n",
              "11         2009        3.864390  ...           3.893453               83534\n",
              "\n",
              "[3 rows x 7 columns]"
            ]
          },
          "metadata": {
            "tags": []
          },
          "execution_count": 28
        }
      ]
    },
    {
      "cell_type": "markdown",
      "metadata": {
        "id": "DDiY1-OaOOe1",
        "colab_type": "text"
      },
      "source": [
        "In year 2011, beers recieved highest number of reviews/ratings."
      ]
    },
    {
      "cell_type": "markdown",
      "metadata": {
        "id": "Pd7L7p5yPi0N",
        "colab_type": "text"
      },
      "source": [
        "# **Q3. Based on the user’s ratings which factors are important among taste,aroma, appearance, and palette?**"
      ]
    },
    {
      "cell_type": "code",
      "metadata": {
        "id": "r49xM2fnQCED",
        "colab_type": "code",
        "outputId": "e3b39cde-86af-4361-d612-0bb0b340b1b6",
        "colab": {
          "base_uri": "https://localhost:8080/",
          "height": 553
        }
      },
      "source": [
        "#Checking out distributio of different rating\n",
        "\n",
        "fig = plt.figure(figsize = (8,8))\n",
        "ax = fig.gca()\n",
        "beer_data[ratings_columns].hist(ax=ax)\n",
        "plt.show()"
      ],
      "execution_count": 0,
      "outputs": [
        {
          "output_type": "stream",
          "text": [
            "/usr/local/lib/python3.6/dist-packages/ipykernel_launcher.py:4: UserWarning: To output multiple subplots, the figure containing the passed axes is being cleared\n",
            "  after removing the cwd from sys.path.\n"
          ],
          "name": "stderr"
        },
        {
          "output_type": "display_data",
          "data": {
            "image/png": "[encoded data removed]",
            "text/plain": [
              "<Figure size 576x576 with 6 Axes>"
            ]
          },
          "metadata": {
            "tags": [],
            "needs_background": "light"
          }
        }
      ]
    },
    {
      "cell_type": "markdown",
      "metadata": {
        "id": "Mdb8spkuRCR5",
        "colab_type": "text"
      },
      "source": [
        "All ratings are left skewed with mean value near 4."
      ]
    },
    {
      "cell_type": "code",
      "metadata": {
        "id": "b-Ku9qD0R2Be",
        "colab_type": "code",
        "outputId": "926ed718-1f58-436e-9419-fc12ba420b7e",
        "colab": {
          "base_uri": "https://localhost:8080/",
          "height": 353
        }
      },
      "source": [
        "corr = beer_data[ratings_columns].corr()\n",
        "sns.heatmap(corr, \n",
        "            xticklabels=corr.columns.values,\n",
        "            yticklabels=corr.columns.values,\n",
        "            annot=True)\n",
        "plt.show()"
      ],
      "execution_count": 0,
      "outputs": [
        {
          "output_type": "display_data",
          "data": {
            "image/png": "[encoded data removed]",
            "text/plain": [
              "<Figure size 432x288 with 2 Axes>"
            ]
          },
          "metadata": {
            "tags": [],
            "needs_background": "light"
          }
        }
      ]
    },
    {
      "cell_type": "markdown",
      "metadata": {
        "id": "5K_uocx4SGmB",
        "colab_type": "text"
      },
      "source": [
        "From correlation heatmap, we can find out that all ratings are positively correlated to each others. rating_overall is having high correlation with rating_aroma.\n",
        "\n",
        "Lets find out important factors for overall rating.\n",
        "\n"
      ]
    },
    {
      "cell_type": "markdown",
      "metadata": {
        "id": "N-OLsajCTLo9",
        "colab_type": "text"
      },
      "source": [
        "Q3.1 Lets find out important factors by linear regression."
      ]
    },
    {
      "cell_type": "code",
      "metadata": {
        "id": "RaJBWNV8TAAX",
        "colab_type": "code",
        "outputId": "39674ee5-e7e8-40f3-f06c-01eabe6d4372",
        "colab": {
          "base_uri": "https://localhost:8080/",
          "height": 34
        }
      },
      "source": [
        "#Initializing Linear Regression model\n",
        "model = LinearRegression()\n",
        "\n",
        "#Initializing RFE model\n",
        "rfe = RFE(model, 1)\n",
        "#Transforming data using RFE\n",
        "X_rfe = rfe.fit_transform(beer_data[['rating_appearance','rating_palette','rating_taste','rating_aroma']], beer_data[ratings_columns].rating_overall)  \n",
        "#Fitting the data to model\n",
        "model.fit(X_rfe,beer_data.rating_overall)\n",
        "print(rfe.ranking_)"
      ],
      "execution_count": 0,
      "outputs": [
        {
          "output_type": "stream",
          "text": [
            "[4 3 2 1]\n"
          ],
          "name": "stdout"
        }
      ]
    },
    {
      "cell_type": "markdown",
      "metadata": {
        "id": "qwHCwW-UTvfx",
        "colab_type": "text"
      },
      "source": [
        "According to Linear Regression model, important factors are in following order rating_aroma > rating_taste > rating_palette > rating_appearance."
      ]
    },
    {
      "cell_type": "markdown",
      "metadata": {
        "id": "8XBo4seBUIJU",
        "colab_type": "text"
      },
      "source": [
        "Lets cross verify above result with Random Forest"
      ]
    },
    {
      "cell_type": "code",
      "metadata": {
        "id": "oINVk8RoV4E9",
        "colab_type": "code",
        "colab": {}
      },
      "source": [
        "#feautred columns\n",
        "features_columns=['rating_appearance','rating_palette','rating_taste','rating_aroma']"
      ],
      "execution_count": 0,
      "outputs": []
    },
    {
      "cell_type": "code",
      "metadata": {
        "id": "z_aWBw1pUTxs",
        "colab_type": "code",
        "colab": {}
      },
      "source": [
        "#Lets select best param for Random forest\n",
        "\n",
        "# Import RandomizedSearchCV\n",
        "from sklearn.model_selection import RandomizedSearchCV\n",
        "\n",
        "# Create the hyperparameter grid\n",
        "param_dist = {\"max_depth\": [3,5,10,15],\n",
        "              \"n_estimators\": [10,25,50,100],\n",
        "              \"bootstrap\": [True, False]}\n",
        "\n",
        "# Call RandomizedSearchCV\n",
        "random_search = RandomizedSearchCV(RandomForestRegressor(random_state=101), param_dist)\n",
        "\n",
        "# Fit the model\n",
        "random_search.fit(beer_data[features_columns], beer_data.rating_overall)\n",
        "\n",
        "# Print best parameters\n",
        "print(random_search.best_params_)\n"
      ],
      "execution_count": 0,
      "outputs": []
    },
    {
      "cell_type": "code",
      "metadata": {
        "id": "L-4F0aVjVZz-",
        "colab_type": "code",
        "outputId": "e28e6dc3-0fb7-4ac5-aacc-6dc2d86f81e1",
        "colab": {
          "base_uri": "https://localhost:8080/",
          "height": 34
        }
      },
      "source": [
        "#Initialize randon forest\n",
        "regr = RandomForestRegressor(n_estimators= 100, max_depth= 10, bootstrap= True, random_state=101)\n",
        "\n",
        "#Fit the model with data\n",
        "regr.fit(beer_data[features_columns], beer_data.rating_overall)\n",
        "\n",
        "importances = regr.feature_importances_\n",
        "print(importances)"
      ],
      "execution_count": 0,
      "outputs": [
        {
          "output_type": "stream",
          "text": [
            "[0.00653008 0.00536153 0.05495505 0.93315334]\n"
          ],
          "name": "stdout"
        }
      ]
    },
    {
      "cell_type": "code",
      "metadata": {
        "id": "m_LNgbIEW6Wf",
        "colab_type": "code",
        "outputId": "17bbf750-0b61-448b-fc31-919da7f10298",
        "colab": {
          "base_uri": "https://localhost:8080/",
          "height": 279
        }
      },
      "source": [
        "plt.barh(range(4), importances, tick_label=features_columns)\n",
        "plt.xlabel('Feauters Importance')\n",
        "plt.show()"
      ],
      "execution_count": 0,
      "outputs": [
        {
          "output_type": "display_data",
          "data": {
            "image/png": "[encoded data removed]",
            "text/plain": [
              "<Figure size 432x288 with 1 Axes>"
            ]
          },
          "metadata": {
            "tags": [],
            "needs_background": "light"
          }
        }
      ]
    },
    {
      "cell_type": "markdown",
      "metadata": {
        "id": "2HfNCZvSXFGt",
        "colab_type": "text"
      },
      "source": [
        "With above graph, We can conclude that following is the order of important ratings among taste,aroma, appearance, and palette.\n",
        "\n",
        "1. Aroma.\n",
        "2. Taste.\n",
        "3. Palette.\n",
        "4. Appearance."
      ]
    },
    {
      "cell_type": "markdown",
      "metadata": {
        "id": "42J_TQqQYPs9",
        "colab_type": "text"
      },
      "source": [
        "# **Q4. If you were to recommend 3 beers to your friends based on this data which ones will you recommend?**"
      ]
    },
    {
      "cell_type": "markdown",
      "metadata": {
        "id": "fAYEonDyYhS0",
        "colab_type": "text"
      },
      "source": [
        "Q4.1 Lets determine the user's sentiment from review text"
      ]
    },
    {
      "cell_type": "markdown",
      "metadata": {
        "id": "3TBxB18HYxMK",
        "colab_type": "text"
      },
      "source": [
        "*Q4.1.1 Text preprocessing for sentiment analysis*"
      ]
    },
    {
      "cell_type": "code",
      "metadata": {
        "id": "_nq4aqW8Y44Y",
        "colab_type": "code",
        "colab": {}
      },
      "source": [
        "import itertools\n",
        "import emoji\n",
        "import re\n",
        "\n",
        "# emoticons\n",
        "def load_dict_smileys():\n",
        "    \"\"\"\n",
        "    Converting emojis to word representation\n",
        "    Parameters: \n",
        "    None\n",
        "  \n",
        "    Returns: \n",
        "    dictonary of emoji to work mapping\n",
        "    \"\"\" \n",
        "    return {\n",
        "        \":‑)\":\"smiley\",\n",
        "        \":-]\":\"smiley\",\n",
        "        \":-3\":\"smiley\",\n",
        "        \":->\":\"smiley\",\n",
        "        \"8-)\":\"smiley\",\n",
        "        \":-}\":\"smiley\",\n",
        "        \":)\":\"smiley\",\n",
        "        \":]\":\"smiley\",\n",
        "        \":3\":\"smiley\",\n",
        "        \":>\":\"smiley\",\n",
        "        \"8)\":\"smiley\",\n",
        "        \":}\":\"smiley\",\n",
        "        \":o)\":\"smiley\",\n",
        "        \":c)\":\"smiley\",\n",
        "        \":^)\":\"smiley\",\n",
        "        \"=]\":\"smiley\",\n",
        "        \"=)\":\"smiley\",\n",
        "        \":-))\":\"smiley\",\n",
        "        \":‑D\":\"smiley\",\n",
        "        \"8‑D\":\"smiley\",\n",
        "        \"x‑D\":\"smiley\",\n",
        "        \"X‑D\":\"smiley\",\n",
        "        \":D\":\"smiley\",\n",
        "        \"8D\":\"smiley\",\n",
        "        \"xD\":\"smiley\",\n",
        "        \"XD\":\"smiley\",\n",
        "        \":‑(\":\"sad\",\n",
        "        \":‑c\":\"sad\",\n",
        "        \":‑<\":\"sad\",\n",
        "        \":‑[\":\"sad\",\n",
        "        \":(\":\"sad\",\n",
        "        \":c\":\"sad\",\n",
        "        \":<\":\"sad\",\n",
        "        \":[\":\"sad\",\n",
        "        \":-||\":\"sad\",\n",
        "        \">:[\":\"sad\",\n",
        "        \":{\":\"sad\",\n",
        "        \":@\":\"sad\",\n",
        "        \">:(\":\"sad\",\n",
        "        \":'‑(\":\"sad\",\n",
        "        \":'(\":\"sad\",\n",
        "        \":‑P\":\"playful\",\n",
        "        \"X‑P\":\"playful\",\n",
        "        \"x‑p\":\"playful\",\n",
        "        \":‑p\":\"playful\",\n",
        "        \":‑Þ\":\"playful\",\n",
        "        \":‑þ\":\"playful\",\n",
        "        \":‑b\":\"playful\",\n",
        "        \":P\":\"playful\",\n",
        "        \"XP\":\"playful\",\n",
        "        \"xp\":\"playful\",\n",
        "        \":p\":\"playful\",\n",
        "        \":Þ\":\"playful\",\n",
        "        \":þ\":\"playful\",\n",
        "        \":b\":\"playful\",\n",
        "        \"<3\":\"love\"\n",
        "        }\n",
        "\n",
        "# self defined contractions\n",
        "def load_dict_contractions():\n",
        "    \"\"\"\n",
        "    Loading contradictions\n",
        "    Parameters: \n",
        "    None\n",
        "  \n",
        "    Returns: \n",
        "    dictionary of contradiction\n",
        "    \"\"\" \n",
        "    return {\n",
        "        \"ain't\":\"is not\",\n",
        "        \"amn't\":\"am not\",\n",
        "        \"aren't\":\"are not\",\n",
        "        \"can't\":\"cannot\",\n",
        "        \"'cause\":\"because\",\n",
        "        \"couldn't\":\"could not\",\n",
        "        \"couldn't've\":\"could not have\",\n",
        "        \"could've\":\"could have\",\n",
        "        \"daren't\":\"dare not\",\n",
        "        \"daresn't\":\"dare not\",\n",
        "        \"dasn't\":\"dare not\",\n",
        "        \"didn't\":\"did not\",\n",
        "        \"doesn't\":\"does not\",\n",
        "        \"don't\":\"do not\",\n",
        "        \"e'er\":\"ever\",\n",
        "        \"em\":\"them\",\n",
        "        \"everyone's\":\"everyone is\",\n",
        "        \"finna\":\"fixing to\",\n",
        "        \"gimme\":\"give me\",\n",
        "        \"gonna\":\"going to\",\n",
        "        \"gon't\":\"go not\",\n",
        "        \"gotta\":\"got to\",\n",
        "        \"hadn't\":\"had not\",\n",
        "        \"hasn't\":\"has not\",\n",
        "        \"haven't\":\"have not\",\n",
        "        \"he'd\":\"he would\",\n",
        "        \"he'll\":\"he will\",\n",
        "        \"he's\":\"he is\",\n",
        "        \"he've\":\"he have\",\n",
        "        \"how'd\":\"how would\",\n",
        "        \"how'll\":\"how will\",\n",
        "        \"how're\":\"how are\",\n",
        "        \"how's\":\"how is\",\n",
        "        \"I'd\":\"I would\",\n",
        "        \"I'll\":\"I will\",\n",
        "        \"I'm\":\"I am\",\n",
        "        \"I'm'a\":\"I am about to\",\n",
        "        \"I'm'o\":\"I am going to\",\n",
        "        \"isn't\":\"is not\",\n",
        "        \"it'd\":\"it would\",\n",
        "        \"it'll\":\"it will\",\n",
        "        \"it's\":\"it is\",\n",
        "        \"I've\":\"I have\",\n",
        "        \"kinda\":\"kind of\",\n",
        "        \"let's\":\"let us\",\n",
        "        \"mayn't\":\"may not\",\n",
        "        \"may've\":\"may have\",\n",
        "        \"mightn't\":\"might not\",\n",
        "        \"might've\":\"might have\",\n",
        "        \"mustn't\":\"must not\",\n",
        "        \"mustn't've\":\"must not have\",\n",
        "        \"must've\":\"must have\",\n",
        "        \"needn't\":\"need not\",\n",
        "        \"ne'er\":\"never\",\n",
        "        \"o'\":\"of\",\n",
        "        \"o'er\":\"over\",\n",
        "        \"ol'\":\"old\",\n",
        "        \"oughtn't\":\"ought not\",\n",
        "        \"shalln't\":\"shall not\",\n",
        "        \"shan't\":\"shall not\",\n",
        "        \"she'd\":\"she would\",\n",
        "        \"she'll\":\"she will\",\n",
        "        \"she's\":\"she is\",\n",
        "        \"shouldn't\":\"should not\",\n",
        "        \"shouldn't've\":\"should not have\",\n",
        "        \"should've\":\"should have\",\n",
        "        \"somebody's\":\"somebody is\",\n",
        "        \"someone's\":\"someone is\",\n",
        "        \"something's\":\"something is\",\n",
        "        \"that'd\":\"that would\",\n",
        "        \"that'll\":\"that will\",\n",
        "        \"that're\":\"that are\",\n",
        "        \"that's\":\"that is\",\n",
        "        \"there'd\":\"there would\",\n",
        "        \"there'll\":\"there will\",\n",
        "        \"there're\":\"there are\",\n",
        "        \"there's\":\"there is\",\n",
        "        \"these're\":\"these are\",\n",
        "        \"they'd\":\"they would\",\n",
        "        \"they'll\":\"they will\",\n",
        "        \"they're\":\"they are\",\n",
        "        \"they've\":\"they have\",\n",
        "        \"this's\":\"this is\",\n",
        "        \"those're\":\"those are\",\n",
        "        \"'tis\":\"it is\",\n",
        "        \"'twas\":\"it was\",\n",
        "        \"wanna\":\"want to\",\n",
        "        \"wasn't\":\"was not\",\n",
        "        \"we'd\":\"we would\",\n",
        "        \"we'd've\":\"we would have\",\n",
        "        \"we'll\":\"we will\",\n",
        "        \"we're\":\"we are\",\n",
        "        \"weren't\":\"were not\",\n",
        "        \"we've\":\"we have\",\n",
        "        \"what'd\":\"what did\",\n",
        "        \"what'll\":\"what will\",\n",
        "        \"what're\":\"what are\",\n",
        "        \"what's\":\"what is\",\n",
        "        \"what've\":\"what have\",\n",
        "        \"when's\":\"when is\",\n",
        "        \"where'd\":\"where did\",\n",
        "        \"where're\":\"where are\",\n",
        "        \"where's\":\"where is\",\n",
        "        \"where've\":\"where have\",\n",
        "        \"which's\":\"which is\",\n",
        "        \"who'd\":\"who would\",\n",
        "        \"who'd've\":\"who would have\",\n",
        "        \"who'll\":\"who will\",\n",
        "        \"who're\":\"who are\",\n",
        "        \"who's\":\"who is\",\n",
        "        \"who've\":\"who have\",\n",
        "        \"why'd\":\"why did\",\n",
        "        \"why're\":\"why are\",\n",
        "        \"why's\":\"why is\",\n",
        "        \"won't\":\"will not\",\n",
        "        \"wouldn't\":\"would not\",\n",
        "        \"would've\":\"would have\",\n",
        "        \"y'all\":\"you all\",\n",
        "        \"you'd\":\"you would\",\n",
        "        \"you'll\":\"you will\",\n",
        "        \"you're\":\"you are\",\n",
        "        \"you've\":\"you have\",\n",
        "        \"Whatcha\":\"What are you\",\n",
        "        \"luv\":\"love\",\n",
        "        \"sux\":\"sucks\"\n",
        "        }\n",
        "\n",
        "\n",
        "def review_cleaning_for_sentiment_analysis(review):    \n",
        "    \"\"\"\n",
        "    Preprocessing review\n",
        "    Parameters: \n",
        "    review (str): text/review to be cleaned\n",
        "  \n",
        "    Returns: \n",
        "    review: processed review\n",
        "    \"\"\" \n",
        "    #checking the review null and string type\n",
        "    if not review:\n",
        "        return None\n",
        "    if not isinstance(review, str):\n",
        "        return None\n",
        "\n",
        "    \n",
        "    #Special case not handled previously.\n",
        "    review = review.replace('\\x92',\"'\")\n",
        "    \n",
        "    \n",
        "    #Removal of address\n",
        "    review = ' '.join(re.sub(\"(\\w+:\\/\\/\\S+)\", \" \", review).split())\n",
        "    \n",
        "    #Removal of Punctuation\n",
        "    review = ' '.join(re.sub(\"[\\:\\;\\-\\=\\<\\>]\", \" \", review).split())\n",
        "    \n",
        "    #Removal of hastags/account\n",
        "    review = ' '.join(re.sub(\"(@[A-Za-z0-9]+)|(#[A-Za-z0-9]+)\", \" \", review).split())\n",
        "    \n",
        "    #Lower case\n",
        "    review = review.lower()\n",
        "    \n",
        "    #CONTRACTIONS source: https://en.wikipedia.org/wiki/Contraction_%28grammar%29\n",
        "    CONTRACTIONS = load_dict_contractions()\n",
        "    review = review.replace(\"’\",\"'\")\n",
        "    words = review.split()\n",
        "    reformed = [CONTRACTIONS[word] if word in CONTRACTIONS else word for word in words]\n",
        "    review = \" \".join(reformed)\n",
        "    \n",
        "    # Standardizing words\n",
        "    review = ''.join(''.join(s)[:2] for _, s in itertools.groupby(review))\n",
        "    \n",
        "    #Deal with emoticons source: https://en.wikipedia.org/wiki/List_of_emoticons\n",
        "    SMILEY = load_dict_smileys()  \n",
        "    words = review.split()\n",
        "    reformed = [SMILEY[word] if word in SMILEY else word for word in words]\n",
        "    review = \" \".join(reformed)\n",
        "    \n",
        "    #Deal with emojis\n",
        "    review = emoji.demojize(review)\n",
        "\n",
        "    review = review.replace(\":\",\" \")\n",
        "    review = ' '.join(review.split())\n",
        "\n",
        "    return review\n",
        "\n",
        "beer_data['processed_review_text']=beer_data.review_text.map(review_cleaning_for_sentiment_analysis)\n",
        "beer_data.to_csv('/content/drive/My Drive/Colab Notebooks/preprocessed_beer_data.csv')"
      ],
      "execution_count": 0,
      "outputs": []
    },
    {
      "cell_type": "markdown",
      "metadata": {
        "id": "So4W3iWPZ-Ki",
        "colab_type": "text"
      },
      "source": [
        "*Q.4.1.2 Calculate Sentiment from processed_review_text*\n",
        "\n",
        "We are using library TextBlob"
      ]
    },
    {
      "cell_type": "code",
      "metadata": {
        "id": "Aixr8g14aG4i",
        "colab_type": "code",
        "colab": {}
      },
      "source": [
        "beer_data_processed=pd.read_csv('/content/drive/My Drive/Colab Notebooks/preprocessed_beer_data.csv')"
      ],
      "execution_count": 0,
      "outputs": []
    },
    {
      "cell_type": "code",
      "metadata": {
        "id": "pFEcZMwFfwnR",
        "colab_type": "code",
        "colab": {}
      },
      "source": [
        "beer_data_processed.info()"
      ],
      "execution_count": 0,
      "outputs": []
    },
    {
      "cell_type": "code",
      "metadata": {
        "id": "HBx9ck0De-wG",
        "colab_type": "code",
        "colab": {}
      },
      "source": [
        "def sentiment_score_textblob(review): \n",
        "    if not review:\n",
        "        return 0\n",
        "    if isinstance(review, str):\n",
        "        return TextBlob(review).sentiment[0]\n",
        "    else:\n",
        "        return 0"
      ],
      "execution_count": 0,
      "outputs": []
    },
    {
      "cell_type": "code",
      "metadata": {
        "id": "kKBFq168fEoA",
        "colab_type": "code",
        "colab": {}
      },
      "source": [
        "beer_data_processed['sentiment_score_textblob']=beer_data_processed.processed_review_text.map(sentiment_score_textblob)\n",
        "beer_data_processed.to_csv('/content/drive/My Drive/Colab Notebooks/text_blob_sentiment_beer_data.csv')"
      ],
      "execution_count": 0,
      "outputs": []
    },
    {
      "cell_type": "markdown",
      "metadata": {
        "id": "s-556qD9o6Sr",
        "colab_type": "text"
      },
      "source": [
        "Due to time limitation i am using simple sentiment analysis on overall reveiew text. More robust and **Aspect level sentiment analysis** can be implemented with advance libraries.\n",
        "\n",
        "I have used flair library which is **Contextual String Embeddings techniques** to get much **higher accuracy**. But due to time and computation limitation, i could not run on all the reviews. Please find the code below for the same."
      ]
    },
    {
      "cell_type": "code",
      "metadata": {
        "id": "mdNKw6rjqInB",
        "colab_type": "code",
        "colab": {}
      },
      "source": [
        "import flair\n",
        "\n",
        "flair_sentiment = flair.models.TextClassifier.load('en-sentiment')\n",
        "\n",
        "def sentiment_score_flair(review): \n",
        "    if not review:\n",
        "        return 0\n",
        "    if isinstance(review, str):\n",
        "        sentence = flair.data.Sentence(review)\n",
        "        flair_sentiment.predict(sentence)\n",
        "        if sentence.labels[0].value == \"NEGATIVE\":\n",
        "            return -1 * sentence.labels[0].score\n",
        "        else:\n",
        "            return sentence.labels[0].score\n",
        "    else:\n",
        "        return 0\n",
        "\n",
        "beer_data_processed['sentiment_score_flair']=beer_data_processed.processed_review_text.map(sentiment_score_flair)\n",
        "beer_data_processed.to_csv('/content/drive/My Drive/Colab Notebooks/flair_sentiment_beer_data.csv')"
      ],
      "execution_count": 0,
      "outputs": []
    },
    {
      "cell_type": "code",
      "metadata": {
        "id": "PJuEl7objxKe",
        "colab_type": "code",
        "colab": {}
      },
      "source": [
        "beer_data_with_sentiment=pd.read_csv('/content/drive/My Drive/Colab Notebooks/text_blob_sentiment_beer_data.csv')"
      ],
      "execution_count": 0,
      "outputs": []
    },
    {
      "cell_type": "code",
      "metadata": {
        "id": "fWp_X2Icka8k",
        "colab_type": "code",
        "colab": {}
      },
      "source": [
        "recommend_features=['beer_beerId','rating_overall','rating_appearance','rating_palette','rating_taste','rating_aroma','sentiment_score_textblob','beer_ABV','review_profileName']\n",
        "beer_data_recommend=beer_data_with_sentiment[recommend_features]"
      ],
      "execution_count": 0,
      "outputs": []
    },
    {
      "cell_type": "code",
      "metadata": {
        "id": "kfu6Id1_kkMn",
        "colab_type": "code",
        "colab": {}
      },
      "source": [
        "recommend_df = beer_data_recommend.groupby('beer_beerId').agg({'rating_overall': 'mean',\n",
        "                                'rating_aroma': 'mean',\n",
        "                                'rating_taste': 'mean',\n",
        "                                'rating_palette': 'mean',     \n",
        "                                'rating_appearance': 'mean',\n",
        "                                'sentiment_score_textblob': 'mean',\n",
        "                                'review_profileName': 'count'})\n",
        "\n",
        "recommend_df_reindexed = pd.DataFrame(recommend_df.reset_index())\n",
        "\n",
        "recommend_df_sorted = recommend_df_reindexed.sort_values(['review_profileName','rating_overall','sentiment_score_textblob', 'rating_aroma','rating_taste','rating_palette','rating_appearance'], ascending=[False,False,False, False, False, False, False])\n"
      ],
      "execution_count": 0,
      "outputs": []
    },
    {
      "cell_type": "code",
      "metadata": {
        "id": "3tjgUUvnkndi",
        "colab_type": "code",
        "outputId": "a1b7334a-ba8b-49d1-c1de-3c1d95292ab6",
        "colab": {
          "base_uri": "https://localhost:8080/",
          "height": 379
        }
      },
      "source": [
        "recommend_df_sorted.head(10)"
      ],
      "execution_count": 0,
      "outputs": [
        {
          "output_type": "execute_result",
          "data": {
            "text/html": [
              "<div>\n",
              "<style scoped>\n",
              "    .dataframe tbody tr th:only-of-type {\n",
              "        vertical-align: middle;\n",
              "    }\n",
              "\n",
              "    .dataframe tbody tr th {\n",
              "        vertical-align: top;\n",
              "    }\n",
              "\n",
              "    .dataframe thead th {\n",
              "        text-align: right;\n",
              "    }\n",
              "</style>\n",
              "<table border=\"1\" class=\"dataframe\">\n",
              "  <thead>\n",
              "    <tr style=\"text-align: right;\">\n",
              "      <th></th>\n",
              "      <th>beer_beerId</th>\n",
              "      <th>rating_overall</th>\n",
              "      <th>rating_aroma</th>\n",
              "      <th>rating_taste</th>\n",
              "      <th>rating_palette</th>\n",
              "      <th>rating_appearance</th>\n",
              "      <th>sentiment_score_textblob</th>\n",
              "      <th>review_profileName</th>\n",
              "    </tr>\n",
              "  </thead>\n",
              "  <tbody>\n",
              "    <tr>\n",
              "      <th>468</th>\n",
              "      <td>1904</td>\n",
              "      <td>4.168667</td>\n",
              "      <td>4.190000</td>\n",
              "      <td>4.076000</td>\n",
              "      <td>4.082333</td>\n",
              "      <td>4.225167</td>\n",
              "      <td>0.231990</td>\n",
              "      <td>2999</td>\n",
              "    </tr>\n",
              "    <tr>\n",
              "      <th>74</th>\n",
              "      <td>276</td>\n",
              "      <td>4.245845</td>\n",
              "      <td>4.115385</td>\n",
              "      <td>3.966950</td>\n",
              "      <td>3.915539</td>\n",
              "      <td>3.995168</td>\n",
              "      <td>0.234444</td>\n",
              "      <td>2587</td>\n",
              "    </tr>\n",
              "    <tr>\n",
              "      <th>3003</th>\n",
              "      <td>11757</td>\n",
              "      <td>4.354516</td>\n",
              "      <td>4.501199</td>\n",
              "      <td>4.387890</td>\n",
              "      <td>4.412070</td>\n",
              "      <td>4.364508</td>\n",
              "      <td>0.180985</td>\n",
              "      <td>2501</td>\n",
              "    </tr>\n",
              "    <tr>\n",
              "      <th>657</th>\n",
              "      <td>2671</td>\n",
              "      <td>3.966091</td>\n",
              "      <td>4.189005</td>\n",
              "      <td>4.126204</td>\n",
              "      <td>4.155698</td>\n",
              "      <td>4.258628</td>\n",
              "      <td>0.191054</td>\n",
              "      <td>2491</td>\n",
              "    </tr>\n",
              "    <tr>\n",
              "      <th>15</th>\n",
              "      <td>34</td>\n",
              "      <td>4.298027</td>\n",
              "      <td>4.396093</td>\n",
              "      <td>4.264398</td>\n",
              "      <td>4.231977</td>\n",
              "      <td>4.193919</td>\n",
              "      <td>0.228164</td>\n",
              "      <td>2483</td>\n",
              "    </tr>\n",
              "    <tr>\n",
              "      <th>23</th>\n",
              "      <td>104</td>\n",
              "      <td>4.044251</td>\n",
              "      <td>3.872415</td>\n",
              "      <td>3.774194</td>\n",
              "      <td>3.663358</td>\n",
              "      <td>3.886476</td>\n",
              "      <td>0.252166</td>\n",
              "      <td>2417</td>\n",
              "    </tr>\n",
              "    <tr>\n",
              "      <th>81</th>\n",
              "      <td>355</td>\n",
              "      <td>4.044987</td>\n",
              "      <td>4.023053</td>\n",
              "      <td>3.912936</td>\n",
              "      <td>3.800806</td>\n",
              "      <td>3.892122</td>\n",
              "      <td>0.218889</td>\n",
              "      <td>2232</td>\n",
              "    </tr>\n",
              "    <tr>\n",
              "      <th>157</th>\n",
              "      <td>645</td>\n",
              "      <td>4.339401</td>\n",
              "      <td>4.543548</td>\n",
              "      <td>4.430876</td>\n",
              "      <td>4.418664</td>\n",
              "      <td>4.344931</td>\n",
              "      <td>0.191297</td>\n",
              "      <td>2170</td>\n",
              "    </tr>\n",
              "    <tr>\n",
              "      <th>7586</th>\n",
              "      <td>30420</td>\n",
              "      <td>4.104485</td>\n",
              "      <td>4.113849</td>\n",
              "      <td>4.029571</td>\n",
              "      <td>4.019961</td>\n",
              "      <td>4.170527</td>\n",
              "      <td>0.221705</td>\n",
              "      <td>2029</td>\n",
              "    </tr>\n",
              "    <tr>\n",
              "      <th>137</th>\n",
              "      <td>571</td>\n",
              "      <td>4.240741</td>\n",
              "      <td>4.266667</td>\n",
              "      <td>4.200247</td>\n",
              "      <td>4.018272</td>\n",
              "      <td>4.250864</td>\n",
              "      <td>0.203093</td>\n",
              "      <td>2024</td>\n",
              "    </tr>\n",
              "  </tbody>\n",
              "</table>\n",
              "</div>"
            ],
            "text/plain": [
              "      beer_beerId  rating_overall  ...  sentiment_score_textblob  review_profileName\n",
              "468          1904        4.168667  ...                  0.231990                2999\n",
              "74            276        4.245845  ...                  0.234444                2587\n",
              "3003        11757        4.354516  ...                  0.180985                2501\n",
              "657          2671        3.966091  ...                  0.191054                2491\n",
              "15             34        4.298027  ...                  0.228164                2483\n",
              "23            104        4.044251  ...                  0.252166                2417\n",
              "81            355        4.044987  ...                  0.218889                2232\n",
              "157           645        4.339401  ...                  0.191297                2170\n",
              "7586        30420        4.104485  ...                  0.221705                2029\n",
              "137           571        4.240741  ...                  0.203093                2024\n",
              "\n",
              "[10 rows x 8 columns]"
            ]
          },
          "metadata": {
            "tags": []
          },
          "execution_count": 85
        }
      ]
    },
    {
      "cell_type": "code",
      "metadata": {
        "id": "7PArzJnKmKaO",
        "colab_type": "code",
        "outputId": "b766c981-9446-4b48-bd42-d8feadc81afc",
        "colab": {
          "base_uri": "https://localhost:8080/",
          "height": 51
        }
      },
      "source": [
        "beer_data_processed['beer_name'].loc[beer_data_processed['beer_beerId'].isin([1904,276,34])].unique()"
      ],
      "execution_count": 0,
      "outputs": [
        {
          "output_type": "execute_result",
          "data": {
            "text/plain": [
              "array(['Sierra Nevada Celebration Ale', 'Sierra Nevada Pale Ale',\n",
              "       'La Fin Du Monde'], dtype=object)"
            ]
          },
          "metadata": {
            "tags": []
          },
          "execution_count": 91
        }
      ]
    },
    {
      "cell_type": "markdown",
      "metadata": {
        "id": "945wNGDglR_-",
        "colab_type": "text"
      },
      "source": [
        "**Based on above popular ten beers, I will recommend Sierra Nevada Celebration Ale, Sierra Nevada Pale Ale and La Fin Du Monde.  These beeers are widely enjoyed by users with good rating and positive sentiment. **"
      ]
    },
    {
      "cell_type": "markdown",
      "metadata": {
        "id": "GFMmvsx7oVBG",
        "colab_type": "text"
      },
      "source": [
        "Due to time limitation, I am using this simple approach to answer the question. More robust solution can be implemented with **multi criteria recommendation system**."
      ]
    },
    {
      "cell_type": "markdown",
      "metadata": {
        "id": "xGC8WMt-q0wS",
        "colab_type": "text"
      },
      "source": [
        "# **Q5. Which Beer style seems to be the favorite based on Reviews written by users? How does written review compare to overall review score for the beer style?**"
      ]
    },
    {
      "cell_type": "code",
      "metadata": {
        "id": "nC9FNMUdrIYF",
        "colab_type": "code",
        "outputId": "8dd25f31-255b-4679-b001-820dcdf15335",
        "colab": {
          "base_uri": "https://localhost:8080/",
          "height": 408
        }
      },
      "source": [
        "beer_data_with_sentiment.info()"
      ],
      "execution_count": 0,
      "outputs": [
        {
          "output_type": "stream",
          "text": [
            "<class 'pandas.core.frame.DataFrame'>\n",
            "RangeIndex: 528870 entries, 0 to 528869\n",
            "Data columns (total 16 columns):\n",
            " #   Column                    Non-Null Count   Dtype  \n",
            "---  ------                    --------------   -----  \n",
            " 0   Unnamed: 0                528870 non-null  int64  \n",
            " 1   Unnamed: 0.1              528870 non-null  int64  \n",
            " 2   beer_ABV                  528870 non-null  float64\n",
            " 3   beer_beerId               528870 non-null  int64  \n",
            " 4   beer_brewerId             528870 non-null  int64  \n",
            " 5   beer_name                 528870 non-null  object \n",
            " 6   beer_style                528870 non-null  object \n",
            " 7   rating_appearance         528870 non-null  float64\n",
            " 8   rating_palette            528870 non-null  float64\n",
            " 9   rating_overall            528870 non-null  float64\n",
            " 10  rating_taste              528870 non-null  float64\n",
            " 11  rating_aroma              528870 non-null  float64\n",
            " 12  review_profileName        528755 non-null  object \n",
            " 13  review_text               528751 non-null  object \n",
            " 14  review_time               528870 non-null  object \n",
            " 15  sentiment_score_textblob  528751 non-null  float64\n",
            "dtypes: float64(7), int64(4), object(5)\n",
            "memory usage: 64.6+ MB\n"
          ],
          "name": "stdout"
        }
      ]
    },
    {
      "cell_type": "code",
      "metadata": {
        "id": "TB-0lCWSraId",
        "colab_type": "code",
        "outputId": "46ad31d1-f463-4a0c-c96f-c9e7250e8fce",
        "colab": {
          "base_uri": "https://localhost:8080/",
          "height": 235
        }
      },
      "source": [
        "beer_data_with_sentiment[['beer_style','sentiment_score_textblob']].groupby(['beer_style']).mean().sort_values(['sentiment_score_textblob'],ascending=False).head()"
      ],
      "execution_count": 0,
      "outputs": [
        {
          "output_type": "execute_result",
          "data": {
            "text/html": [
              "<div>\n",
              "<style scoped>\n",
              "    .dataframe tbody tr th:only-of-type {\n",
              "        vertical-align: middle;\n",
              "    }\n",
              "\n",
              "    .dataframe tbody tr th {\n",
              "        vertical-align: top;\n",
              "    }\n",
              "\n",
              "    .dataframe thead th {\n",
              "        text-align: right;\n",
              "    }\n",
              "</style>\n",
              "<table border=\"1\" class=\"dataframe\">\n",
              "  <thead>\n",
              "    <tr style=\"text-align: right;\">\n",
              "      <th></th>\n",
              "      <th>sentiment_score_textblob</th>\n",
              "    </tr>\n",
              "    <tr>\n",
              "      <th>beer_style</th>\n",
              "      <th></th>\n",
              "    </tr>\n",
              "  </thead>\n",
              "  <tbody>\n",
              "    <tr>\n",
              "      <th>Dortmunder / Export Lager</th>\n",
              "      <td>0.234047</td>\n",
              "    </tr>\n",
              "    <tr>\n",
              "      <th>Vienna Lager</th>\n",
              "      <td>0.231024</td>\n",
              "    </tr>\n",
              "    <tr>\n",
              "      <th>Czech Pilsener</th>\n",
              "      <td>0.210332</td>\n",
              "    </tr>\n",
              "    <tr>\n",
              "      <th>American IPA</th>\n",
              "      <td>0.209473</td>\n",
              "    </tr>\n",
              "    <tr>\n",
              "      <th>Rye Beer</th>\n",
              "      <td>0.206520</td>\n",
              "    </tr>\n",
              "  </tbody>\n",
              "</table>\n",
              "</div>"
            ],
            "text/plain": [
              "                           sentiment_score_textblob\n",
              "beer_style                                         \n",
              "Dortmunder / Export Lager                  0.234047\n",
              "Vienna Lager                               0.231024\n",
              "Czech Pilsener                             0.210332\n",
              "American IPA                               0.209473\n",
              "Rye Beer                                   0.206520"
            ]
          },
          "metadata": {
            "tags": []
          },
          "execution_count": 101
        }
      ]
    },
    {
      "cell_type": "code",
      "metadata": {
        "id": "z_Ch5bi9tB1W",
        "colab_type": "code",
        "outputId": "73cecc4e-200e-4c7b-c362-30d0b0063229",
        "colab": {
          "base_uri": "https://localhost:8080/",
          "height": 204
        }
      },
      "source": [
        "fav_beer_style_df = beer_data_with_sentiment[['beer_style','sentiment_score_textblob','review_profileName']].groupby('beer_style').agg({\n",
        "                                'sentiment_score_textblob': 'mean',\n",
        "                                'review_profileName': 'count'})\n",
        "\n",
        "fav_beer_style_df_reindexed = pd.DataFrame(fav_beer_style_df.reset_index())\n",
        "\n",
        "fav_beer_style_df_sorted = fav_beer_style_df_reindexed.sort_values(['sentiment_score_textblob','review_profileName'], ascending=[False,False])\n",
        "fav_beer_style_df_sorted.head()"
      ],
      "execution_count": 0,
      "outputs": [
        {
          "output_type": "execute_result",
          "data": {
            "text/html": [
              "<div>\n",
              "<style scoped>\n",
              "    .dataframe tbody tr th:only-of-type {\n",
              "        vertical-align: middle;\n",
              "    }\n",
              "\n",
              "    .dataframe tbody tr th {\n",
              "        vertical-align: top;\n",
              "    }\n",
              "\n",
              "    .dataframe thead th {\n",
              "        text-align: right;\n",
              "    }\n",
              "</style>\n",
              "<table border=\"1\" class=\"dataframe\">\n",
              "  <thead>\n",
              "    <tr style=\"text-align: right;\">\n",
              "      <th></th>\n",
              "      <th>beer_style</th>\n",
              "      <th>sentiment_score_textblob</th>\n",
              "      <th>review_profileName</th>\n",
              "    </tr>\n",
              "  </thead>\n",
              "  <tbody>\n",
              "    <tr>\n",
              "      <th>38</th>\n",
              "      <td>Dortmunder / Export Lager</td>\n",
              "      <td>0.234047</td>\n",
              "      <td>1809</td>\n",
              "    </tr>\n",
              "    <tr>\n",
              "      <th>99</th>\n",
              "      <td>Vienna Lager</td>\n",
              "      <td>0.231024</td>\n",
              "      <td>4607</td>\n",
              "    </tr>\n",
              "    <tr>\n",
              "      <th>36</th>\n",
              "      <td>Czech Pilsener</td>\n",
              "      <td>0.210332</td>\n",
              "      <td>5845</td>\n",
              "    </tr>\n",
              "    <tr>\n",
              "      <th>12</th>\n",
              "      <td>American IPA</td>\n",
              "      <td>0.209473</td>\n",
              "      <td>43363</td>\n",
              "    </tr>\n",
              "    <tr>\n",
              "      <th>90</th>\n",
              "      <td>Rye Beer</td>\n",
              "      <td>0.206520</td>\n",
              "      <td>5178</td>\n",
              "    </tr>\n",
              "  </tbody>\n",
              "</table>\n",
              "</div>"
            ],
            "text/plain": [
              "                   beer_style  sentiment_score_textblob  review_profileName\n",
              "38  Dortmunder / Export Lager                  0.234047                1809\n",
              "99               Vienna Lager                  0.231024                4607\n",
              "36             Czech Pilsener                  0.210332                5845\n",
              "12               American IPA                  0.209473               43363\n",
              "90                   Rye Beer                  0.206520                5178"
            ]
          },
          "metadata": {
            "tags": []
          },
          "execution_count": 103
        }
      ]
    },
    {
      "cell_type": "markdown",
      "metadata": {
        "id": "AfsPK1ptsrcM",
        "colab_type": "text"
      },
      "source": [
        "Beer Style **Dortmunder / Export Lager** is favorite based on reviews written by users."
      ]
    },
    {
      "cell_type": "code",
      "metadata": {
        "id": "VJYSZTFiuMlP",
        "colab_type": "code",
        "colab": {}
      },
      "source": [
        "beer_data_with_sentiment[['rating_overall','sentiment_score_textblob']].corr()"
      ],
      "execution_count": 0,
      "outputs": []
    },
    {
      "cell_type": "markdown",
      "metadata": {
        "id": "1yE4gGRnulj6",
        "colab_type": "text"
      },
      "source": [
        "Overall rating is positively correlated with the written review sentiment."
      ]
    },
    {
      "cell_type": "code",
      "metadata": {
        "id": "kiT7irCdvnD4",
        "colab_type": "code",
        "colab": {}
      },
      "source": [
        ""
      ],
      "execution_count": 0,
      "outputs": []
    }
  ]
}